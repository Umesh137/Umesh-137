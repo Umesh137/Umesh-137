{
  "nbformat": 4,
  "nbformat_minor": 0,
  "metadata": {
    "colab": {
      "name": "assignment-04_python_Letsupgrade.ipynb",
      "provenance": [],
      "collapsed_sections": []
    },
    "kernelspec": {
      "name": "python3",
      "display_name": "Python 3"
    }
  },
  "cells": [
    {
      "cell_type": "code",
      "metadata": {
        "id": "jgGbUcoAyn3S",
        "colab_type": "code",
        "colab": {
          "base_uri": "https://localhost:8080/",
          "height": 34
        },
        "outputId": "3beeb2be-26d3-4877-b761-354ffc0e98ab"
      },
      "source": [
        "\n",
        "for num in range(1042000,702648265):\n",
        "    order = len(str(num))\n",
        "    sum = 0\n",
        "    #find the sum of the cube of each digit\n",
        "    temp = num\n",
        "    while temp > 0:\n",
        "        digit = temp % 10\n",
        "        sum += digit ** order \n",
        "        temp //= 10\n",
        "    if num == sum:\n",
        "        print(num, end = ' ')"
      ],
      "execution_count": null,
      "outputs": [
        {
          "output_type": "stream",
          "text": [
            "1741725 4210818 9800817 9926315 24678050 24678051 "
          ],
          "name": "stdout"
        }
      ]
    }
  ]
}